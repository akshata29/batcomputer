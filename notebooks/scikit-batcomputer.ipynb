{
 "cells": [
  {
   "cell_type": "markdown",
   "metadata": {},
   "source": [
    "## Important Stuff"
   ]
  },
  {
   "cell_type": "code",
   "execution_count": 2,
   "metadata": {},
   "outputs": [
    {
     "data": {
      "text/html": [
       "<style scoped>\n",
       "  .ansiout {\n",
       "    display: block;\n",
       "    unicode-bidi: embed;\n",
       "    white-space: pre-wrap;\n",
       "    word-wrap: break-word;\n",
       "    word-break: break-all;\n",
       "    font-family: \"Source Code Pro\", \"Menlo\", monospace;;\n",
       "    font-size: 13px;\n",
       "    color: #555;\n",
       "    margin-left: 4px;\n",
       "    line-height: 19px;\n",
       "  }\n",
       "</style>\n",
       "<div class=\"ansiout\"></div>"
      ]
     },
     "metadata": {},
     "output_type": "display_data"
    }
   ],
   "source": [
    "# Default values when not provided/overridden by job\n",
    "#dbutils.widgets.text(\"model_version\", \"1.0.0\")\n",
    "#dbutils.widgets.text(\"storage_account\", \"modelreg\")\n",
    "#dbutils.widgets.text(\"model_name\", \"batcomputer\")\n",
    "\n",
    "# Model version, name & storage-account is passed into job, and storage key is kept in Azure Key Vault\n",
    "STORAGE_KEY       = dbutils.secrets.get(\"ai-deploy-secrets\", \"storage-key\")\n",
    "STORAGE_ACCOUNT   = dbutils.widgets.get(\"storage_account\")\n",
    "MODEL_VERSION     = dbutils.widgets.get(\"model_version\")\n",
    "STORAGE_CONTAINER = dbutils.widgets.get(\"model_name\")"
   ]
  },
  {
   "cell_type": "markdown",
   "metadata": {},
   "source": [
    "## Pandas - Extracting data"
   ]
  },
  {
   "cell_type": "code",
   "execution_count": 15,
   "metadata": {},
   "outputs": [],
   "source": [
    "import pandas as pd\n",
    "import numpy as np\n",
    "\n",
    "# Load data from CSV\n",
    "df = pd.read_csv('../data/prc-outcomes-open-data-aprjun2018-tables.csv', low_memory=False)"
   ]
  },
  {
   "cell_type": "markdown",
   "metadata": {},
   "source": [
    "## Pandas - Encoding & Extending Data"
   ]
  },
  {
   "cell_type": "code",
   "execution_count": 28,
   "metadata": {},
   "outputs": [
    {
     "name": "stdout",
     "output_type": "stream",
     "text": [
      "<class 'pandas.core.frame.DataFrame'>\n",
      "RangeIndex: 621280 entries, 0 to 621279\n",
      "Data columns (total 16 columns):\n",
      "Financial Year                                     621280 non-null object\n",
      "Financial Quarter                                  621280 non-null int64\n",
      "Force Name                                         621280 non-null object\n",
      "Offence Description                                621280 non-null object\n",
      "Offence Group                                      621280 non-null object\n",
      "Offence Subgroup                                   621280 non-null object\n",
      "Offence Code                                       621280 non-null object\n",
      "Offence code expired                               140800 non-null object\n",
      "Outcome Description                                621280 non-null object\n",
      "Outcome Group                                      621280 non-null object\n",
      "Outcome Type                                       621280 non-null int64\n",
      "Force outcomes for offences recorded in quarter    621280 non-null object\n",
      "Force outcomes recorded in quarter                 598400 non-null float64\n",
      "Prosecuted_E                                       621280 non-null int64\n",
      "Offence Subgroup_E                                 621280 non-null int64\n",
      "Force Name_E                                       621280 non-null int64\n",
      "dtypes: float64(1), int64(5), object(10)\n",
      "memory usage: 75.8+ MB\n",
      "None\n",
      "Force Name                         Bedfordshire\n",
      "Offence Subgroup      Fraud offences to 2012/13\n",
      "Outcome Type                                  1\n",
      "Prosecuted_E                                  1\n",
      "Offence Subgroup_E                            4\n",
      "Force Name_E                                  1\n",
      "Name: 1003, dtype: object\n",
      "{   'Arson': 0,\n",
      "    'Bicycle theft': 1,\n",
      "    'Criminal damage': 2,\n",
      "    'Domestic burglary': 3,\n",
      "    'Fraud offences to 2012/13': 4,\n",
      "    'Harassment': 5,\n",
      "    'Homicide': 6,\n",
      "    'Miscellaneous crimes': 7,\n",
      "    'Non-domestic burglary': 8,\n",
      "    'Other sexual offences': 9,\n",
      "    'Other theft offences': 10,\n",
      "    'Possession of drugs': 11,\n",
      "    'Possession of weapons offences': 12,\n",
      "    'Public order offences': 13,\n",
      "    'Rape': 14,\n",
      "    'Robbery': 15,\n",
      "    'Shoplifting': 16,\n",
      "    'Theft from a vehicle': 17,\n",
      "    'Theft from the person': 18,\n",
      "    'Theft of a motor vehicle': 19,\n",
      "    'Trafficking of drugs': 20,\n",
      "    'Vehicle interference': 21,\n",
      "    'Violence with injury': 22,\n",
      "    'Violence without injury': 23}\n"
     ]
    }
   ],
   "source": [
    "import pprint\n",
    "pp = pprint.PrettyPrinter(indent=4)\n",
    "\n",
    "# Extend Prosecuted_E column with mapping of 'Outcome Type'\n",
    "# Outcome Type == 1 is a prosecution, other types we count as \"not prosecuted\"\n",
    "def mapProsecuted(val):\n",
    "    if val <= 3:\n",
    "        return 1\n",
    "    else:\n",
    "        return 0\n",
    "df['Prosecuted_E'] = df['Outcome Type'].map(mapProsecuted).astype(int)\n",
    "\n",
    "from sklearn.preprocessing import LabelEncoder\n",
    "enc = LabelEncoder()\n",
    "df['Offence Subgroup_E'] = enc.fit_transform(df['Offence Subgroup'])\n",
    "offence_mapping = dict(zip(enc.classes_, range(len(enc.classes_))))\n",
    "\n",
    "# enc = LabelEncoder()\n",
    "# df['Offence Group_E'] = enc.fit_transform(df['Offence Group'])\n",
    "# offence_grp_mapping = dict(zip(enc.classes_, range(len(enc.classes_))))\n",
    "\n",
    "enc = LabelEncoder()\n",
    "df['Force Name_E'] = enc.fit_transform(df['Force Name'])\n",
    "force_mapping = dict(zip(enc.classes_, range(len(enc.classes_))))\n",
    "\n",
    "print(df.info())\n",
    "pp.pprint(df.iloc[1003, [2,5,10,13,14,15]])\n",
    "pp.pprint(offence_mapping)\n",
    "# print()\n",
    "# pp.pprint(offence_grp_mapping)\n",
    "# print()\n",
    "# pp.pprint(force_mapping)\n",
    "\n",
    "# Get our training data in NumPy format\n",
    "train_data = df.values"
   ]
  },
  {
   "cell_type": "markdown",
   "metadata": {},
   "source": [
    "## Scikit-learn - Training the model"
   ]
  },
  {
   "cell_type": "code",
   "execution_count": 20,
   "metadata": {},
   "outputs": [],
   "source": [
    "#rain_data[0:,14]\n",
    "\n",
    "from sklearn.ensemble import RandomForestClassifier\n",
    "\n",
    "# Use RandomForestClassifier\n",
    "model = RandomForestClassifier(n_estimators = 100)\n",
    "X = train_data[0:,14:].astype(int)\n",
    "y = train_data[0:,13].astype(int)\n",
    "model = model.fit(X, y)"
   ]
  },
  {
   "cell_type": "markdown",
   "metadata": {},
   "source": [
    "## Test"
   ]
  },
  {
   "cell_type": "code",
   "execution_count": 33,
   "metadata": {},
   "outputs": [
    {
     "name": "stdout",
     "output_type": "stream",
     "text": [
      "Arson 0\n",
      "[[0.80677101 0.19322899]]\n",
      "Bicycle theft 1\n",
      "[[0.8118852 0.1881148]]\n",
      "Criminal damage 2\n",
      "[[0.82576959 0.17423041]]\n",
      "Domestic burglary 3\n",
      "[[0.8122679 0.1877321]]\n",
      "Fraud offences to 2012/13 4\n",
      "[[0.84987477 0.15012523]]\n",
      "Harassment 5\n",
      "[[0.80970685 0.19029315]]\n",
      "Homicide 6\n",
      "[[0.80771689 0.19228311]]\n",
      "Miscellaneous crimes 7\n",
      "[[0.82224214 0.17775786]]\n",
      "Non-domestic burglary 8\n",
      "[[0.80818312 0.19181688]]\n",
      "Other sexual offences 9\n",
      "[[0.81100828 0.18899172]]\n",
      "Other theft offences 10\n",
      "[[0.8092016 0.1907984]]\n",
      "Possession of drugs 11\n",
      "[[0.80916807 0.19083193]]\n",
      "Possession of weapons offences 12\n",
      "[[0.80875372 0.19124628]]\n",
      "Public order offences 13\n",
      "[[0.82879847 0.17120153]]\n",
      "Rape 14\n",
      "[[0.80950269 0.19049731]]\n",
      "Robbery 15\n",
      "[[0.80241129 0.19758871]]\n",
      "Shoplifting 16\n",
      "[[0.8045839 0.1954161]]\n",
      "Theft from a vehicle 17\n",
      "[[0.81033375 0.18966625]]\n",
      "Theft from the person 18\n",
      "[[0.80998363 0.19001637]]\n",
      "Theft of a motor vehicle 19\n",
      "[[0.80775018 0.19224982]]\n",
      "Trafficking of drugs 20\n",
      "[[0.80973842 0.19026158]]\n",
      "Vehicle interference 21\n",
      "[[0.81715827 0.18284173]]\n",
      "Violence with injury 22\n",
      "[[0.82541508 0.17458492]]\n",
      "Violence without injury 23\n",
      "[[0.81460523 0.18539477]]\n"
     ]
    }
   ],
   "source": [
    "answer = model.predict_proba([[1, 23]])\n",
    "\n",
    "for c, v in offence_mapping.items():\n",
    "    print(c, v)\n",
    "    print(model.predict_proba([[v, 20]]))"
   ]
  },
  {
   "cell_type": "markdown",
   "metadata": {},
   "source": [
    "## Pickle model and other mapping files"
   ]
  },
  {
   "cell_type": "code",
   "execution_count": 12,
   "metadata": {},
   "outputs": [
    {
     "data": {
      "text/html": [
       "<style scoped>\n",
       "  .ansiout {\n",
       "    display: block;\n",
       "    unicode-bidi: embed;\n",
       "    white-space: pre-wrap;\n",
       "    word-wrap: break-word;\n",
       "    word-break: break-all;\n",
       "    font-family: \"Source Code Pro\", \"Menlo\", monospace;;\n",
       "    font-size: 13px;\n",
       "    color: #555;\n",
       "    margin-left: 4px;\n",
       "    line-height: 19px;\n",
       "  }\n",
       "</style>\n",
       "<div class=\"ansiout\"></div>"
      ]
     },
     "metadata": {},
     "output_type": "display_data"
    }
   ],
   "source": [
    "# Create pickles and data lookup \n",
    "from collections import OrderedDict\n",
    "import pickle\n",
    "\n",
    "lookup = OrderedDict()\n",
    "\n",
    "# ORDER IS IMPORTANT! This is why we use OrderedDict and create entries one by one\n",
    "lookup[\"Pclass\"] = 0\n",
    "lookup[\"Age\"] = 0\n",
    "lookup[\"SibSp\"] = 0\n",
    "lookup[\"Parch\"] = 0\n",
    "lookup[\"Fare\"] = 0\n",
    "lookup[\"Gender\"] = {\"male\": 1, \"female\": 0}\n",
    "lookup[\"Port\"] = {\"Cherbourg\": 1, \"Southampton\": 2, \"Queenstown\": 3}\n",
    "  \n",
    "# Create output lookup\n",
    "flags = [\"died_proba\", \"survived_proba\"]\n",
    "\n",
    "# Pickle the whole damn lot\n",
    "with open(\"model.pkl\" , 'wb') as file:  \n",
    "    pickle.dump(model, file)\n",
    "    file.close()\n",
    "    \n",
    "with open(\"lookup.pkl\" , 'wb') as file:  \n",
    "    pickle.dump(lookup, file)\n",
    "    file.close()\n",
    "    \n",
    "with open(\"flags.pkl\" , 'wb') as file:  \n",
    "    pickle.dump(flags, file)    \n",
    "    file.close()"
   ]
  },
  {
   "cell_type": "code",
   "execution_count": 13,
   "metadata": {},
   "outputs": [
    {
     "data": {
      "text/html": [
       "<style scoped>\n",
       "  .ansiout {\n",
       "    display: block;\n",
       "    unicode-bidi: embed;\n",
       "    white-space: pre-wrap;\n",
       "    word-wrap: break-word;\n",
       "    word-break: break-all;\n",
       "    font-family: \"Source Code Pro\", \"Menlo\", monospace;;\n",
       "    font-size: 13px;\n",
       "    color: #555;\n",
       "    margin-left: 4px;\n",
       "    line-height: 19px;\n",
       "  }\n",
       "</style>\n",
       "<div class=\"ansiout\"><span class=\"ansired\">Out[</span><span class=\"ansired\">18</span><span class=\"ansired\">]: </span>&lt;azure.storage.blob.models.ResourceProperties at 0x7fd519806d68&gt;\n",
       "</div>"
      ]
     },
     "metadata": {},
     "output_type": "display_data"
    }
   ],
   "source": [
    "#!pip install azure-storage\n",
    "from azure.storage.blob import BlockBlobService\n",
    "\n",
    "# Create the BlockBlockService that is used to call the Blob service for the storage account\n",
    "block_blob_service = BlockBlobService(account_name=STORAGE_ACCOUNT, account_key=STORAGE_KEY) \n",
    "\n",
    "# Create a container\n",
    "block_blob_service.create_container(STORAGE_CONTAINER) \n",
    "\n",
    "# Upload the created file, use local_file_name for the blob name\n",
    "block_blob_service.create_blob_from_path(STORAGE_CONTAINER, MODEL_VERSION + \"/model.pkl\", \"model.pkl\")\n",
    "block_blob_service.create_blob_from_path(STORAGE_CONTAINER, MODEL_VERSION + \"/lookup.pkl\", \"lookup.pkl\")\n",
    "block_blob_service.create_blob_from_path(STORAGE_CONTAINER, MODEL_VERSION + \"/flags.pkl\", \"flags.pkl\")"
   ]
  }
 ],
 "metadata": {
  "kernelspec": {
   "display_name": "Python 3",
   "language": "python",
   "name": "python3"
  },
  "language_info": {
   "codemirror_mode": {
    "name": "ipython",
    "version": 3
   },
   "file_extension": ".py",
   "mimetype": "text/x-python",
   "name": "python",
   "nbconvert_exporter": "python",
   "pygments_lexer": "ipython3",
   "version": "3.6.7"
  },
  "name": "scikit-batcomputer",
  "notebookId": 283185785165404
 },
 "nbformat": 4,
 "nbformat_minor": 1
}
